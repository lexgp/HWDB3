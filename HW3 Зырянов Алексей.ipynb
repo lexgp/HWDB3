{
 "cells": [
  {
   "cell_type": "markdown",
   "metadata": {},
   "source": [
    "### БД из customer.csv и transaction.csv\n",
    "Я так понимаю в csv те же тамблицы, что были в прошлом задании. Я вижу, что в задании говорится о двух таблицах. Но я же имею право спроектировать базу так как считаю правильным? Мне лень их перезаливать т_Т. Поэтому использую созданную в прошлом ДЗ базу:"
   ]
  },
  {
   "cell_type": "markdown",
   "metadata": {},
   "source": [
    "![Компьютер](./images/scheme.svg)"
   ]
  },
  {
   "cell_type": "markdown",
   "metadata": {},
   "source": [
    "#### 1. Вывести распределение (количество) клиентов по сферам деятельности, отсортировав результат по убыванию количества."
   ]
  },
  {
   "cell_type": "code",
   "execution_count": null,
   "metadata": {
    "vscode": {
     "languageId": "sql"
    }
   },
   "outputs": [],
   "source": [
    "select job_industry_category, count(id) as customer_count from customers c group by job_industry_category;"
   ]
  },
  {
   "cell_type": "markdown",
   "metadata": {},
   "source": [
    "![HW3.1.png](./images/HW3.1.png)"
   ]
  },
  {
   "cell_type": "markdown",
   "metadata": {},
   "source": [
    "#### 2. Найти сумму транзакций за каждый месяц по сферам деятельности, отсортировав по месяцам и по сфере деятельности."
   ]
  },
  {
   "cell_type": "code",
   "execution_count": null,
   "metadata": {
    "vscode": {
     "languageId": "sql"
    }
   },
   "outputs": [],
   "source": [
    "SELECT \n",
    "    TO_CHAR(t.transaction_date, 'YYYY-MM') AS month,\n",
    "    c.job_industry_category AS industry_category,\n",
    "    SUM(p.list_price) AS total_transactions\n",
    "FROM \n",
    "    transactions t\n",
    "JOIN \n",
    "    customers c ON t.customer_id = c.id\n",
    "JOIN \n",
    "    products p ON t.product_id = p.id\n",
    "GROUP BY \n",
    "    month, c.job_industry_category\n",
    "ORDER BY \n",
    "    month, c.job_industry_category;"
   ]
  },
  {
   "cell_type": "markdown",
   "metadata": {},
   "source": [
    "![HW3.2.png](./images/HW3.2.png)"
   ]
  },
  {
   "cell_type": "markdown",
   "metadata": {},
   "source": [
    "#### 3. Вывести количество онлайн-заказов для всех брендов в рамках подтвержденных заказов клиентов из сферы IT. "
   ]
  },
  {
   "cell_type": "code",
   "execution_count": null,
   "metadata": {
    "vscode": {
     "languageId": "sql"
    }
   },
   "outputs": [],
   "source": [
    "SELECT \n",
    "    p.brand AS brand,\n",
    "    COUNT(t.id) AS online_order_count\n",
    "FROM \n",
    "    transactions t\n",
    "JOIN \n",
    "    customers c ON t.customer_id = c.id\n",
    "JOIN \n",
    "    products p ON t.product_id = p.id\n",
    "WHERE \n",
    "    t.online_order = TRUE\n",
    "    AND t.order_status = 'Approved'\n",
    "    AND c.job_industry_category = 'IT'\n",
    "GROUP BY \n",
    "    p.brand\n",
    "ORDER BY \n",
    "    online_order_count DESC;"
   ]
  },
  {
   "cell_type": "markdown",
   "metadata": {},
   "source": [
    "![HW3.3.png](./images/HW3.3.png)"
   ]
  },
  {
   "cell_type": "markdown",
   "metadata": {},
   "source": [
    "#### 4. Найти сумму, минимум, максимум и количество транзакций\n",
    "Найти по всем клиентам сумму всех транзакций (list_price), максимум, минимум и количество транзакций, отсортировав результат по убыванию суммы транзакций и количества клиентов. Выполните двумя способами: используя только group by и используя только оконные функции. Сравните результат. "
   ]
  },
  {
   "cell_type": "code",
   "execution_count": null,
   "metadata": {
    "vscode": {
     "languageId": "sql"
    }
   },
   "outputs": [],
   "source": [
    "-- Использование group by\n",
    "\n",
    "SELECT \n",
    "    c.id,\n",
    "    c.first_name,\n",
    "    c.last_name,\n",
    "    SUM(p.list_price) AS total_transactions,\n",
    "    MAX(p.list_price) AS max_transaction,\n",
    "    MIN(p.list_price) AS min_transaction,\n",
    "    COUNT(t.id) AS transaction_count\n",
    "FROM transactions t\n",
    "JOIN customers c ON t.customer_id = c.id\n",
    "JOIN products p ON t.product_id = p.id\n",
    "GROUP BY \n",
    "    c.id, c.first_name, c.last_name\n",
    "ORDER BY \n",
    "    total_transactions DESC, transaction_count DESC;"
   ]
  },
  {
   "cell_type": "markdown",
   "metadata": {},
   "source": [
    "![HW3.4.1.png](./images/HW3.4.1.png)"
   ]
  },
  {
   "cell_type": "code",
   "execution_count": null,
   "metadata": {
    "vscode": {
     "languageId": "sql"
    }
   },
   "outputs": [],
   "source": [
    "-- Использование оконных функций\n",
    "\n",
    "SELECT DISTINCT\n",
    "    c.id,\n",
    "    c.first_name,\n",
    "    c.last_name,\n",
    "    SUM(p.list_price) OVER (PARTITION BY c.id) AS total_transactions,\n",
    "    MAX(p.list_price) OVER (PARTITION BY c.id) AS max_transaction,\n",
    "    MIN(p.list_price) OVER (PARTITION BY c.id) AS min_transaction,\n",
    "    COUNT(t.id) OVER (PARTITION BY c.id) AS transaction_count\n",
    "FROM \n",
    "    transactions t\n",
    "JOIN \n",
    "    customers c ON t.customer_id = c.id\n",
    "JOIN \n",
    "    products p ON t.product_id = p.id\n",
    "ORDER BY \n",
    "    total_transactions DESC, transaction_count DESC;"
   ]
  },
  {
   "cell_type": "markdown",
   "metadata": {},
   "source": [
    "![HW3.4.2.png](./images/HW3.4.2.png)"
   ]
  },
  {
   "cell_type": "markdown",
   "metadata": {},
   "source": [
    "### Сравнение\n",
    "- Оба запроса возвращают одинаковые данные\n",
    "- GROUP BY группирует данные и возвращает одну строку для каждого клиента.\n",
    "- Оконные функции вычисляют значения для каждой строки, после чего используется DISTINCT для удаления дубликатов."
   ]
  },
  {
   "cell_type": "markdown",
   "metadata": {},
   "source": [
    "#### 5. Клиенты с минимальной и максимальной суммой транзакций\n",
    "Найти имена и фамилии клиентов с минимальной/максимальной суммой транзакций за весь период (сумма транзакций не может быть null). Напишите отдельные запросы для минимальной и максимальной суммы."
   ]
  },
  {
   "cell_type": "code",
   "execution_count": null,
   "metadata": {
    "vscode": {
     "languageId": "sql"
    }
   },
   "outputs": [],
   "source": [
    "-- 1. Клиенты с максимальной суммой транзакций\n",
    "\n",
    "WITH customer_transactions AS (\n",
    "    SELECT \n",
    "        c.id,\n",
    "        c.first_name,\n",
    "        c.last_name,\n",
    "        SUM(p.list_price) AS total_transactions\n",
    "    FROM \n",
    "        transactions t\n",
    "    JOIN \n",
    "        customers c ON t.customer_id = c.id\n",
    "    JOIN \n",
    "        products p ON t.product_id = p.id\n",
    "    GROUP BY \n",
    "        c.id, c.first_name, c.last_name\n",
    ")\n",
    "SELECT \n",
    "    first_name,\n",
    "    last_name,\n",
    "    total_transactions\n",
    "FROM \n",
    "    customer_transactions\n",
    "WHERE \n",
    "    total_transactions = (SELECT MAX(total_transactions) FROM customer_transactions);"
   ]
  },
  {
   "cell_type": "markdown",
   "metadata": {},
   "source": [
    "![HW3.5.1.png](./images/HW3.5.1.png)"
   ]
  },
  {
   "cell_type": "code",
   "execution_count": null,
   "metadata": {
    "vscode": {
     "languageId": "sql"
    }
   },
   "outputs": [],
   "source": [
    "-- 2. Клиенты с минимальной суммой транзакций\n",
    "\n",
    "WITH customer_transactions AS (\n",
    "    SELECT \n",
    "        c.id,\n",
    "        c.first_name,\n",
    "        c.last_name,\n",
    "        SUM(p.list_price) AS total_transactions\n",
    "    FROM \n",
    "        transactions t\n",
    "    JOIN \n",
    "        customers c ON t.customer_id = c.id\n",
    "    JOIN \n",
    "        products p ON t.product_id = p.id\n",
    "    GROUP BY \n",
    "        c.id, c.first_name, c.last_name\n",
    ")\n",
    "SELECT \n",
    "    first_name,\n",
    "    last_name,\n",
    "    total_transactions\n",
    "FROM \n",
    "    customer_transactions\n",
    "WHERE \n",
    "    total_transactions = (SELECT MIN(total_transactions) FROM customer_transactions);"
   ]
  },
  {
   "cell_type": "markdown",
   "metadata": {},
   "source": [
    "![HW3.5.2.png](./images/HW3.5.2.png)"
   ]
  },
  {
   "cell_type": "markdown",
   "metadata": {},
   "source": [
    "#### 6. Вывести только самые первые транзакции клиентов. Решить с помощью оконных функций."
   ]
  },
  {
   "cell_type": "code",
   "execution_count": null,
   "metadata": {
    "vscode": {
     "languageId": "sql"
    }
   },
   "outputs": [],
   "source": [
    "WITH first_transactions AS (\n",
    "    SELECT \n",
    "        t.id as transaction_id,\n",
    "        t.customer_id,\n",
    "        t.transaction_date,\n",
    "        t.product_id,\n",
    "        t.online_order,\n",
    "        t.order_status,\n",
    "        ROW_NUMBER() OVER (\n",
    "            PARTITION BY t.customer_id \n",
    "            ORDER BY t.transaction_date\n",
    "        ) AS transaction_rank\n",
    "    FROM \n",
    "        transactions t\n",
    ")\n",
    "SELECT \n",
    "    ft.transaction_id,\n",
    "    ft.customer_id,\n",
    "    c.first_name,\n",
    "    c.last_name,\n",
    "    ft.transaction_date,\n",
    "    ft.product_id,\n",
    "    ft.online_order,\n",
    "    ft.order_status\n",
    "FROM \n",
    "    first_transactions ft\n",
    "JOIN \n",
    "    customers c ON ft.customer_id = c.id\n",
    "WHERE \n",
    "    ft.transaction_rank = 1\n",
    "ORDER BY \n",
    "    ft.customer_id;"
   ]
  },
  {
   "cell_type": "markdown",
   "metadata": {},
   "source": [
    "![HW3.6.png](./images/HW3.6.png)"
   ]
  },
  {
   "cell_type": "markdown",
   "metadata": {},
   "source": [
    "#### 7. Вывести имена, фамилии и профессии клиентов, между транзакциями которых был максимальный интервал (интервал вычисляется в днях)"
   ]
  },
  {
   "cell_type": "code",
   "execution_count": null,
   "metadata": {
    "vscode": {
     "languageId": "sql"
    }
   },
   "outputs": [],
   "source": [
    "WITH transaction_gaps AS (\n",
    "    SELECT \n",
    "        customer_id,\n",
    "        transaction_date - LAG(transaction_date) OVER (\n",
    "            PARTITION BY customer_id \n",
    "            ORDER BY transaction_date\n",
    "        ) AS days_diff\n",
    "    FROM transactions\n",
    "),\n",
    "transaction_max AS (\n",
    "    SELECT \n",
    "        customer_id,\n",
    "        MAX(days_diff) AS max_interval_days\n",
    "    FROM transaction_gaps\n",
    "    WHERE days_diff IS NOT NULL\n",
    "    GROUP BY customer_id\n",
    "),\n",
    "ranked_gaps AS (\n",
    "    SELECT \n",
    "        *,\n",
    "        DENSE_RANK() OVER (ORDER BY max_interval_days DESC) AS gap_rank\n",
    "    FROM transaction_max\n",
    ")\n",
    "SELECT \n",
    "    rg.customer_id,\n",
    "    rg.max_interval_days,\n",
    "    c.*\n",
    "FROM ranked_gaps rg\n",
    "LEFT JOIN customers c ON c.id = rg.customer_id\n",
    "WHERE rg.gap_rank = 1;"
   ]
  },
  {
   "cell_type": "markdown",
   "metadata": {},
   "source": [
    "![HW3.7.png](./images/HW3.7.png)"
   ]
  }
 ],
 "metadata": {
  "language_info": {
   "name": "python"
  },
  "orig_nbformat": 4
 },
 "nbformat": 4,
 "nbformat_minor": 2
}
